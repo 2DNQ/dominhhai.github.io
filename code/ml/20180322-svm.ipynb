{
 "cells": [
  {
   "cell_type": "code",
   "execution_count": 1,
   "metadata": {},
   "outputs": [],
   "source": [
    "import numpy as np\n",
    "import matplotlib.pyplot as plt"
   ]
  },
  {
   "cell_type": "code",
   "execution_count": 2,
   "metadata": {},
   "outputs": [
    {
     "data": {
      "image/png": "[encoded data removed]",
      "text/plain": [
       "<Figure size 432x288 with 1 Axes>"
      ]
     },
     "metadata": {},
     "output_type": "display_data"
    }
   ],
   "source": [
    "np.random.seed(30)\n",
    "\n",
    "X_0 = np.random.multivariate_normal([2,2], [[.2,.1],[.1,.2]], 8)\n",
    "X_1 = np.random.multivariate_normal([4,1], [[.2,.1],[.1,.2]], 10)\n",
    "plt.plot(X_0[:,0], X_0[:,1], 'bo', mec='k', ms=10)\n",
    "plt.plot(X_1[:,0], X_1[:,1], 'ro', mec='k', ms=10)\n",
    "\n",
    "plt.savefig('svm_1.svg')\n",
    "\n",
    "plt.show()"
   ]
  },
  {
   "cell_type": "code",
   "execution_count": null,
   "metadata": {},
   "outputs": [],
   "source": []
  }
 ],
 "metadata": {
  "kernelspec": {
   "display_name": "Python 2",
   "language": "python",
   "name": "python2"
  },
  "language_info": {
   "codemirror_mode": {
    "name": "ipython",
    "version": 2
   },
   "file_extension": ".py",
   "mimetype": "text/x-python",
   "name": "python",
   "nbconvert_exporter": "python",
   "pygments_lexer": "ipython2",
   "version": "2.7.12"
  }
 },
 "nbformat": 4,
 "nbformat_minor": 2
}
